{
 "cells": [
  {
   "cell_type": "markdown",
   "metadata": {},
   "source": [
    "### Webscraping"
   ]
  },
  {
   "cell_type": "markdown",
   "metadata": {},
   "source": [
    "### Get HTML content from chrome\n"
   ]
  },
  {
   "cell_type": "code",
   "execution_count": 1,
   "metadata": {},
   "outputs": [
    {
     "name": "stdout",
     "output_type": "stream",
     "text": [
      "Note: you may need to restart the kernel to use updated packages.\n"
     ]
    },
    {
     "name": "stderr",
     "output_type": "stream",
     "text": [
      "ERROR: Could not find a version that satisfies the requirement request (from versions: none)\n",
      "ERROR: No matching distribution found for request\n"
     ]
    }
   ],
   "source": [
    "%pip install request beautifulsoup4"
   ]
  },
  {
   "cell_type": "code",
   "execution_count": 2,
   "metadata": {},
   "outputs": [],
   "source": [
    "from warnings import filterwarnings\n",
    "filterwarnings(\"ignore\")"
   ]
  },
  {
   "cell_type": "code",
   "execution_count": 3,
   "metadata": {},
   "outputs": [
    {
     "name": "stdout",
     "output_type": "stream",
     "text": [
      "https://cleartax.in/s/gst-collections-of-2024\n"
     ]
    }
   ],
   "source": [
    "url1 = \"https://cleartax.in/s/gst-collections-of-2024\"\n",
    "print(url1)"
   ]
  },
  {
   "cell_type": "code",
   "execution_count": 4,
   "metadata": {},
   "outputs": [],
   "source": [
    "import requests"
   ]
  },
  {
   "cell_type": "code",
   "execution_count": 5,
   "metadata": {},
   "outputs": [
    {
     "data": {
      "text/plain": [
       "<Response [200]>"
      ]
     },
     "execution_count": 5,
     "metadata": {},
     "output_type": "execute_result"
    }
   ],
   "source": [
    "response = requests.get(url1)\n",
    "response"
   ]
  },
  {
   "cell_type": "code",
   "execution_count": null,
   "metadata": {},
   "outputs": [
    {
     "data": {
      "text/plain": [
       "<Response [200]>"
      ]
     },
     "execution_count": 7,
     "metadata": {},
     "output_type": "execute_result"
    }
   ],
   "source": []
  },
  {
   "cell_type": "code",
   "execution_count": 9,
   "metadata": {},
   "outputs": [
    {
     "data": {
      "text/plain": [
       "b'<!DOCTYPE html><html lang=\"en\"><head><meta charSet=\"UTF-8\"/><script type=\"text/javascript\">(window.N'"
      ]
     },
     "execution_count": 9,
     "metadata": {},
     "output_type": "execute_result"
    }
   ],
   "source": [
    "content = response.content\n",
    "content[0:100]"
   ]
  },
  {
   "cell_type": "markdown",
   "metadata": {},
   "source": [
    "### Get the soup of this HTML data"
   ]
  },
  {
   "cell_type": "code",
   "execution_count": 8,
   "metadata": {},
   "outputs": [],
   "source": [
    "from bs4 import BeautifulSoup"
   ]
  },
  {
   "cell_type": "code",
   "execution_count": 41,
   "metadata": {},
   "outputs": [],
   "source": [
    "soup = BeautifulSoup(content)\n"
   ]
  },
  {
   "cell_type": "markdown",
   "metadata": {},
   "source": [
    "### Show the title of webpage"
   ]
  },
  {
   "cell_type": "code",
   "execution_count": 42,
   "metadata": {},
   "outputs": [
    {
     "data": {
      "text/plain": [
       "<title>Total GST Collection in India for the year 2024</title>"
      ]
     },
     "execution_count": 42,
     "metadata": {},
     "output_type": "execute_result"
    }
   ],
   "source": [
    "title_tag = soup.find(\"title\")\n",
    "title_tag"
   ]
  },
  {
   "cell_type": "code",
   "execution_count": 43,
   "metadata": {},
   "outputs": [
    {
     "name": "stdout",
     "output_type": "stream",
     "text": [
      "Total GST Collection in India for the year 2024\n"
     ]
    }
   ],
   "source": [
    "title_text = title_tag.text\n",
    "print(title_text)"
   ]
  },
  {
   "cell_type": "markdown",
   "metadata": {},
   "source": [
    "### Show main heading h1 tag from page"
   ]
  },
  {
   "cell_type": "code",
   "execution_count": 61,
   "metadata": {},
   "outputs": [
    {
     "name": "stdout",
     "output_type": "stream",
     "text": [
      "<h1 class=\"text-s-40 mt-6 sm:mb-6 mb-2 sm:text-s-32 sm:font-medium\">Total GST Collection in India for the year 2024</h1>\n"
     ]
    }
   ],
   "source": [
    "h1_tag = soup.find(\"h1\", class_ = \"text-s-40 mt-6 sm:mb-6 mb-2 sm:text-s-32 sm:font-medium\")\n",
    "print(h1_tag)"
   ]
  },
  {
   "cell_type": "code",
   "execution_count": 62,
   "metadata": {},
   "outputs": [
    {
     "data": {
      "text/plain": [
       "'Total GST Collection in India for the year 2024'"
      ]
     },
     "execution_count": 62,
     "metadata": {},
     "output_type": "execute_result"
    }
   ],
   "source": [
    "h1_text = h1_tag.text\n",
    "h1_text"
   ]
  },
  {
   "cell_type": "markdown",
   "metadata": {},
   "source": [
    "### Getting all subheading"
   ]
  },
  {
   "cell_type": "code",
   "execution_count": 45,
   "metadata": {},
   "outputs": [
    {
     "data": {
      "text/plain": [
       "[<div class=\"rad-btn\">Book a demo to find out!</div>]"
      ]
     },
     "execution_count": 45,
     "metadata": {},
     "output_type": "execute_result"
    }
   ],
   "source": [
    "sub = soup.find_all(\"div\", class_=\"rad-btn\")\n",
    "sub"
   ]
  },
  {
   "cell_type": "code",
   "execution_count": 47,
   "metadata": {},
   "outputs": [
    {
     "data": {
      "text/plain": [
       "[<div class=\"mobile-index sm:block hidden\"></div>]"
      ]
     },
     "execution_count": 47,
     "metadata": {},
     "output_type": "execute_result"
    }
   ],
   "source": [
    "sub1 = soup.find_all(\"div\", class_ = \"mobile-index\")\n",
    "sub1"
   ]
  },
  {
   "cell_type": "code",
   "execution_count": 48,
   "metadata": {},
   "outputs": [
    {
     "name": "stdout",
     "output_type": "stream",
     "text": [
      "https://en.wikipedia.org/wiki/Goods_and_Services_Tax_(India)_Revenue_Statistics#Monthly_National_Revenue_Collections\n"
     ]
    }
   ],
   "source": [
    "url2 = \"https://en.wikipedia.org/wiki/Goods_and_Services_Tax_(India)_Revenue_Statistics#Monthly_National_Revenue_Collections\"\n",
    "print(url2)"
   ]
  },
  {
   "cell_type": "code",
   "execution_count": 49,
   "metadata": {},
   "outputs": [
    {
     "data": {
      "text/plain": [
       "<Response [200]>"
      ]
     },
     "execution_count": 49,
     "metadata": {},
     "output_type": "execute_result"
    }
   ],
   "source": [
    "response2 = requests.get(url2)\n",
    "response2"
   ]
  },
  {
   "cell_type": "code",
   "execution_count": 50,
   "metadata": {},
   "outputs": [
    {
     "data": {
      "text/plain": [
       "b'<!DOCTYPE html>\\n<html class=\"client-nojs vector-feature-language-in-header-enabled vector-feature-la'"
      ]
     },
     "execution_count": 50,
     "metadata": {},
     "output_type": "execute_result"
    }
   ],
   "source": [
    "content2 = response2.content\n",
    "content2[0:100]"
   ]
  },
  {
   "cell_type": "code",
   "execution_count": 51,
   "metadata": {},
   "outputs": [],
   "source": [
    "soup2 = BeautifulSoup(content2)"
   ]
  },
  {
   "cell_type": "code",
   "execution_count": 52,
   "metadata": {},
   "outputs": [
    {
     "data": {
      "text/plain": [
       "<title>Goods and Services Tax (India) Revenue Statistics - Wikipedia</title>"
      ]
     },
     "execution_count": 52,
     "metadata": {},
     "output_type": "execute_result"
    }
   ],
   "source": [
    "title_tag = soup2.find(\"title\")\n",
    "title_tag"
   ]
  },
  {
   "cell_type": "code",
   "execution_count": 53,
   "metadata": {},
   "outputs": [
    {
     "name": "stdout",
     "output_type": "stream",
     "text": [
      "Goods and Services Tax (India) Revenue Statistics - Wikipedia\n"
     ]
    }
   ],
   "source": [
    "title_text = title_tag.text\n",
    "print(title_text)"
   ]
  },
  {
   "cell_type": "code",
   "execution_count": 59,
   "metadata": {},
   "outputs": [
    {
     "name": "stdout",
     "output_type": "stream",
     "text": [
      "<h1 class=\"firstHeading mw-first-heading\" id=\"firstHeading\"><span class=\"mw-page-title-main\">Goods and Services Tax (India) Revenue Statistics</span></h1>\n"
     ]
    }
   ],
   "source": [
    "h1_tag = soup2.find(\"h1\", class_ = \"mw-first-heading\")\n",
    "print(h1_tag)"
   ]
  },
  {
   "cell_type": "markdown",
   "metadata": {},
   "source": [
    "### Getting all subheading"
   ]
  },
  {
   "cell_type": "code",
   "execution_count": 66,
   "metadata": {},
   "outputs": [
    {
     "data": {
      "text/plain": [
       "[<div class=\"raw-html-embed\"><div class=\"rc-component\" id=\"RC00157\"></div></div>,\n",
       " <div class=\"raw-html-embed\"><div class=\"rc-component\" id=\"RC00155\"></div></div>]"
      ]
     },
     "execution_count": 66,
     "metadata": {},
     "output_type": "execute_result"
    }
   ],
   "source": [
    "sub_tags = soup.find_all(\"div\", class_=\"raw-html-embed\")\n",
    "sub_tags"
   ]
  },
  {
   "cell_type": "code",
   "execution_count": 69,
   "metadata": {},
   "outputs": [
    {
     "data": {
      "text/plain": [
       "bs4.element.ResultSet"
      ]
     },
     "execution_count": 69,
     "metadata": {},
     "output_type": "execute_result"
    }
   ],
   "source": [
    "type(sub_tags)"
   ]
  },
  {
   "cell_type": "code",
   "execution_count": 70,
   "metadata": {},
   "outputs": [
    {
     "data": {
      "text/plain": [
       "['', '']"
      ]
     },
     "execution_count": 70,
     "metadata": {},
     "output_type": "execute_result"
    }
   ],
   "source": [
    "sub_text = [tag.text for tag in sub_tags]\n",
    "sub_text"
   ]
  },
  {
   "cell_type": "markdown",
   "metadata": {},
   "source": [
    "### Getting all text content and saving a .txt file"
   ]
  },
  {
   "cell_type": "code",
   "execution_count": 71,
   "metadata": {},
   "outputs": [
    {
     "data": {
      "text/plain": [
       "[<p class=\"hidden text-s-12 text-font-500 mt-2 group-hover:block\">G1-G9 filing ASP/GSP solution</p>,\n",
       " <p class=\"hidden text-s-12 text-font-500 mt-2 group-hover:block\">Elevate processes with AI automation and vendor delight</p>,\n",
       " <p class=\"hidden text-s-12 text-font-500 mt-2 group-hover:block\">Streamline vendor management and collaboration in one unified portal</p>,\n",
       " <p class=\"hidden text-s-12 text-font-500 mt-2 group-hover:block\">Optimise ITC for profitability</p>,\n",
       " <p class=\"hidden text-s-12 text-font-500 mt-2 group-hover:block\">Bulk invoicing within any ERP</p>,\n",
       " <p class=\"hidden text-s-12 text-font-500 mt-2 group-hover:block\">e-TDS return filing solution</p>,\n",
       " <p class=\"hidden text-s-12 text-font-500 mt-2 group-hover:block\">Maximise EBITDA with early vendor payments</p>,\n",
       " <p class=\"hidden text-s-12 text-font-500 mt-2 group-hover:block\">Instant working capital financing</p>,\n",
       " <p class=\"hidden text-s-12 text-font-500 mt-2 group-hover:block\">Automated secretarial compliance</p>,\n",
       " <p class=\"hidden text-s-12 text-font-500 mt-2 group-hover:block\">Connected finance ecosystem for process automation, greater control, higher savings and productivity</p>,\n",
       " <p class=\"hidden text-s-12 text-font-500 mt-2 group-hover:block\">GST and direct tax compliance</p>,\n",
       " <p class=\"hidden text-s-12 text-font-500 mt-2 group-hover:block\">Complete supply chain solution for ultimate control, effortless collaboration, and assured compliance</p>,\n",
       " <p class=\"hidden text-s-12 text-font-500 mt-2 group-hover:block\">File ITR in 3 minutes</p>,\n",
       " <p class=\"hidden text-s-12 text-font-500 mt-2 group-hover:block\">For Personal Tax and business compliances</p>,\n",
       " <p class=\"hidden text-s-12 text-font-500 mt-2 group-hover:block\">G1-G9 filing ASP/GSP solution</p>,\n",
       " <p class=\"hidden text-s-12 text-font-500 mt-2 group-hover:block\">Elevate processes with AI automation and vendor delight</p>,\n",
       " <p class=\"hidden text-s-12 text-font-500 mt-2 group-hover:block\">Streamline vendor management and collaboration in one unified portal</p>,\n",
       " <p class=\"hidden text-s-12 text-font-500 mt-2 group-hover:block\">Optimise ITC for profitability</p>,\n",
       " <p class=\"hidden text-s-12 text-font-500 mt-2 group-hover:block\">Bulk invoicing within any ERP</p>,\n",
       " <p class=\"hidden text-s-12 text-font-500 mt-2 group-hover:block\">e-TDS return filing solution</p>,\n",
       " <p class=\"hidden text-s-12 text-font-500 mt-2 group-hover:block\">Maximise EBITDA with early vendor payments</p>,\n",
       " <p class=\"hidden text-s-12 text-font-500 mt-2 group-hover:block\">Instant working capital financing</p>,\n",
       " <p class=\"hidden text-s-12 text-font-500 mt-2 group-hover:block\">Automated secretarial compliance</p>,\n",
       " <p class=\"hidden text-s-12 text-font-500 mt-2 group-hover:block\">Connected finance ecosystem for process automation, greater control, higher savings and productivity</p>,\n",
       " <p class=\"hidden text-s-12 text-font-500 mt-2 group-hover:block\">GST and direct tax compliance</p>,\n",
       " <p class=\"hidden text-s-12 text-font-500 mt-2 group-hover:block\">Complete supply chain solution for ultimate control, effortless collaboration, and assured compliance</p>,\n",
       " <p class=\"hidden text-s-12 text-font-500 mt-2 group-hover:block\">File ITR in 3 minutes</p>,\n",
       " <p class=\"hidden text-s-12 text-font-500 mt-2 group-hover:block\">For Personal Tax and business compliances</p>,\n",
       " <p class=\"self-center sm:hidden\"> | </p>,\n",
       " <p class=\"text-s-14 py-2 w-full sm:py-0 self-center sm:my-1 sm:w-full\">Updated on<!-- -->:<!-- --> <!-- -->Feb 5th, 2025</p>,\n",
       " <p class=\"self-center\"> | </p>,\n",
       " <p class=\"text-s-14 py-2 self-center w-full sm:py-0 sm:mx-0 sm:my-2 sm:w-full\">2<!-- --> <!-- -->min read</p>,\n",
       " <p><meta/></p>,\n",
       " <p><a href=\"https://cleartax.in/s/gst-law-goods-and-services-tax\" rel=\"noopener noreferrer\" target=\"_blank\"><span style=\"background-color:transparent;color:#1155cc;font-family:Arial,sans-serif;\"><u>Goods and Services Tax (GST)</u></span></a><span style=\"background-color:transparent;color:#000000;font-family:Arial,sans-serif;\"> has revolutionised India's indirect taxation system manifold. While replacing many indirect tax structures, it has streamlined the compliance system by leveraging technology. In the year 2024, GST collections broke some records and in this article, we will analyse key highlights and aspects that made this possible.</span></p>,\n",
       " <p><span style=\"background-color:transparent;color:#000000;font-family:Arial,sans-serif;\"><strong>The total GST Collection for the calendar year 2024 amounted to Rs.21.36 lakh crore, the highest collection since 2017.</strong> </span></p>,\n",
       " <p><span style=\"background-color:transparent;color:#000000;font-family:Arial,sans-serif;\">The growth of year-wise collection reflects a steady graph, which showcases the resilience of the Indian economy and the success of GST reforms in broadening the tax base.</span></p>,\n",
       " <p><span style=\"background-color:transparent;color:#000000;font-family:Arial,sans-serif;\">There was a 8.86% growth in the total collection for the year 2024 at Rs.21.36 lakh crores as compared to the year 2023 which stood at Rs.19.62 lakh crores.</span></p>,\n",
       " <p><span style=\"background-color:transparent;color:#000000;font-family:Arial,sans-serif;\">The following figure represents the trend of GST collection from FY 2017-18 to FY 2024-25*</span></p>,\n",
       " <p><span style=\"background-color:transparent;color:#000000;font-family:Arial,sans-serif;\"><img alt=\"GST collection from FY 2017-18 to FY 2024-25\" class=\"image_resized\" src=\"https://assets1.cleartax-cdn.com/finfo/wg-utils/retool/ac426d9a-0c54-4109-aa3c-17f730da98cd.jpg\" style=\"width:75%;\"/></span></p>,\n",
       " <p><meta/></p>,\n",
       " <p><span style=\"background-color:transparent;color:#000000;font-family:Arial,sans-serif;\">FY 2024-25* includes months from April 2024 to December 2024</span></p>,\n",
       " <p><span style=\"background-color:transparent;color:#000000;font-family:Arial,sans-serif;\">The month-wise GST Collection shows a dynamic pattern of growth. The highest-ever monthly GST collection was recorded at Rs.2.10 lakh crore for the month of April, which experts suggest was driven by financial year-end transactions and regulatory deadlines.</span></p>,\n",
       " <p><span style=\"background-color:transparent;color:#000000;font-family:Arial,sans-serif;\"><img alt=\"Monthly GST Collection for the year 2024\" class=\"image_resized\" src=\"https://assets1.cleartax-cdn.com/finfo/wg-utils/retool/dbc473f3-d721-4c12-a719-34c197c70b3e.jpg\" style=\"width:75%;\"/></span></p>,\n",
       " <p><meta/></p>,\n",
       " <p><span style=\"background-color:transparent;color:#000000;font-family:Arial,sans-serif;\">Maharashtra, as always topped the chart with a GST collection of Rs.3,18,497 crore, driven by its industrial hubs and high consumption patterns. Maharashtra’s contribution constituted approximately 16% of the national GST revenue. Next up was Karnataka, which had Rs.1,43,023 crore. Karnataka emerged as a major contributor, benefiting from a booming IT sector and robust manufacturing. Gujarat stood third contributing Rs.1,74,938 crore.</span><br/><span style=\"background-color:transparent;color:#000000;font-family:Arial,sans-serif;\">The month-wise analysis highlights the dynamic nature of GST revenue throughout the year:</span></p>,\n",
       " <p><span style=\"background-color:transparent;color:#000000;font-family:Arial,sans-serif;\"><img alt=\"State-wise GST Collection in 2024\" class=\"image_resized\" src=\"https://assets1.cleartax-cdn.com/finfo/wg-utils/retool/d385f789-bfdf-4233-80b5-1f8d78a41abe.jpg\" style=\"width:75%;\"/></span></p>,\n",
       " <p><span style=\"background-color:transparent;color:#000000;font-family:Arial,sans-serif;\">These figures underscore the importance of compliance deadlines, festive seasons, and economic cycles in influencing </span><a href=\"https://gstcouncil.gov.in/gst-revenue\" rel=\"noopener noreferrer\" target=\"_blank\"><span style=\"background-color:transparent;color:#000000;font-family:Arial,sans-serif;\">GST revenue</span></a><span style=\"background-color:transparent;color:#000000;font-family:Arial,sans-serif;\">.</span></p>,\n",
       " <p><meta/></p>,\n",
       " <p><span style=\"background-color:transparent;color:#000000;font-family:Arial,sans-serif;\">India's 2024 GST receipts show the success of tax changes and the resilience of the economy. GST has established itself as a pillar of India's revenue structure with steady growth and increased compliance.</span></p>,\n",
       " <p><span style=\"background-color:transparent;color:#000000;font-family:Arial,sans-serif;\">India must continue to prioritise streamlining compliance, utilising technology, and promoting economic expansion in all areas as it looks to the future. The 2024 trends present a positive outlook and lay a solid basis for the years to come.</span></p>,\n",
       " <p class=\"text-base\">I preach the words, “Learning never exhausts the mind.” An aspiring CA and a passionate content writer having 4+ years of hands-on experience in deciphering jargon in Indian GST, Income Tax, off late also into the much larger Indian finance ecosystem, I love curating content in various forms to the interest of tax professionals, and enterprises, both big and small. While not writing, you can catch me singing Shāstriya Sangeetha and tuning my violin ;).<!-- --> <span class=\"font-semibold text-font-500\">Read more</span></p>,\n",
       " <p class=\"text-s-12 text-justify mb-4 fontLight\">Clear offers taxation &amp; financial solutions to individuals, businesses, organizations &amp; chartered accountants in India. Clear serves 1.5+ Million happy customers, 20000+ CAs &amp; tax experts &amp; 10000+ businesses across India.</p>,\n",
       " <p class=\"text-s-12 text-justify mb-4 fontLight\">Efiling Income Tax Returns(ITR) is made easy with Clear platform. Just upload your form 16, claim your deductions and get your acknowledgment number online. You can efile income tax return on your income from salary, house property, capital gains, business &amp; profession and income from other sources. Further you can also file TDS returns, generate Form-16, use our Tax Calculator software, claim HRA, check refund status and generate rent receipts for Income Tax Filing.</p>,\n",
       " <p class=\"text-s-12 text-justify mb-4 fontLight\">CAs, experts and businesses can get GST ready with Clear GST software &amp; certification course. Our GST Software helps CAs, tax experts &amp; business to manage returns &amp; invoices in an easy manner. Our Goods &amp; Services Tax course includes tutorial videos, guides and expert assistance to help you in mastering Goods and Services Tax. Clear can also help you in getting your business registered for Goods &amp; Services Tax Law.</p>,\n",
       " <p class=\"text-s-12 text-justify mb-4 fontLight\">Save taxes with Clear by investing in tax saving mutual funds (ELSS) online. Our experts suggest the best funds and you can get high returns by investing directly or through SIP. Download Black by ClearTax App to file returns from your mobile phone.</p>,\n",
       " <p class=\"text-base font-bold tracking-wide uppercase mb-2 greyMedium\">Cleartax is a product by Defmacro Software Pvt. Ltd.</p>,\n",
       " <p class=\"flex gap-8 text-s-14 fontLight\"><span>Company Policy</span><span>Terms of use</span></p>,\n",
       " <p class=\"text-s-14 fontLight\">ISO 27001</p>,\n",
       " <p class=\"text-s-14 fontLight\">Data Center</p>,\n",
       " <p class=\"text-s-14 fontLight\">SSL Certified Site</p>,\n",
       " <p class=\"text-s-14 fontLight\">128-bit encryption</p>]"
      ]
     },
     "execution_count": 71,
     "metadata": {},
     "output_type": "execute_result"
    }
   ],
   "source": [
    "p_tags = soup.find_all(\"p\")\n",
    "p_tags"
   ]
  },
  {
   "cell_type": "code",
   "execution_count": 74,
   "metadata": {},
   "outputs": [
    {
     "data": {
      "text/plain": [
       "['G1-G9 filing ASP/GSP solution',\n",
       " 'Elevate processes with AI automation and vendor delight',\n",
       " 'Streamline vendor management and collaboration in one unified portal',\n",
       " 'Optimise ITC for profitability',\n",
       " 'Bulk invoicing within any ERP',\n",
       " 'e-TDS return filing solution',\n",
       " 'Maximise EBITDA with early vendor payments',\n",
       " 'Instant working capital financing',\n",
       " 'Automated secretarial compliance',\n",
       " 'Connected finance ecosystem for process automation, greater control, higher savings and productivity',\n",
       " 'GST and direct tax compliance',\n",
       " 'Complete supply chain solution for ultimate control, effortless collaboration, and assured compliance',\n",
       " 'File ITR in 3 minutes',\n",
       " 'For Personal Tax and business compliances',\n",
       " 'G1-G9 filing ASP/GSP solution',\n",
       " 'Elevate processes with AI automation and vendor delight',\n",
       " 'Streamline vendor management and collaboration in one unified portal',\n",
       " 'Optimise ITC for profitability',\n",
       " 'Bulk invoicing within any ERP',\n",
       " 'e-TDS return filing solution',\n",
       " 'Maximise EBITDA with early vendor payments',\n",
       " 'Instant working capital financing',\n",
       " 'Automated secretarial compliance',\n",
       " 'Connected finance ecosystem for process automation, greater control, higher savings and productivity',\n",
       " 'GST and direct tax compliance',\n",
       " 'Complete supply chain solution for ultimate control, effortless collaboration, and assured compliance',\n",
       " 'File ITR in 3 minutes',\n",
       " 'For Personal Tax and business compliances',\n",
       " ' | ',\n",
       " 'Updated on: Feb 5th, 2025',\n",
       " ' | ',\n",
       " '2 min read',\n",
       " '',\n",
       " \"Goods and Services Tax (GST) has revolutionised India's indirect taxation system manifold. While replacing many indirect tax structures, it has streamlined the compliance system by leveraging technology. In the year 2024, GST collections broke some records and in this article, we will analyse key highlights and aspects that made this possible.\",\n",
       " 'The total GST Collection for the calendar year 2024 amounted to Rs.21.36 lakh crore, the highest collection since 2017.\\xa0',\n",
       " 'The growth of year-wise collection reflects a steady graph, which showcases the resilience of the Indian economy and the success of GST reforms in broadening the tax base.',\n",
       " 'There was a 8.86% growth in the total collection for the year 2024 at Rs.21.36 lakh crores as compared to the year 2023 which stood at Rs.19.62 lakh crores.',\n",
       " 'The following figure represents the trend of GST collection from FY 2017-18 to FY 2024-25*',\n",
       " '',\n",
       " '',\n",
       " 'FY 2024-25* includes months from April 2024 to December 2024',\n",
       " 'The month-wise GST Collection shows a dynamic pattern of growth. The highest-ever monthly GST collection was recorded at Rs.2.10 lakh crore for the month of April, which experts suggest was driven by financial year-end transactions and regulatory deadlines.',\n",
       " '',\n",
       " '',\n",
       " 'Maharashtra, as always topped the chart with a GST collection of Rs.3,18,497 crore, driven by its industrial hubs and high consumption patterns. Maharashtra’s contribution constituted approximately 16% of the national GST revenue. Next up was Karnataka, which had Rs.1,43,023 crore. Karnataka emerged as a major contributor, benefiting from a booming IT sector and robust manufacturing. Gujarat stood third contributing Rs.1,74,938 crore.The month-wise analysis highlights the dynamic nature of GST revenue throughout the year:',\n",
       " '',\n",
       " 'These figures underscore the importance of compliance deadlines, festive seasons, and economic cycles in influencing GST revenue.',\n",
       " '',\n",
       " \"India's 2024 GST receipts show the success of tax changes and the resilience of the economy. GST has established itself as a pillar of India's revenue structure with steady growth and increased compliance.\",\n",
       " 'India must continue to prioritise streamlining compliance, utilising technology, and promoting economic expansion in all areas as it looks to the future. The 2024 trends present a positive outlook and lay a solid basis for the years to come.',\n",
       " 'I preach the words, “Learning never exhausts the mind.” An aspiring CA and a passionate content writer having 4+ years of hands-on experience in deciphering jargon in Indian GST, Income Tax, off late also into the much larger Indian finance ecosystem, I love curating content in various forms to the interest of tax professionals, and enterprises, both big and small. While not writing, you can catch me singing Shāstriya Sangeetha and tuning my violin ;). Read more',\n",
       " 'Clear offers taxation & financial solutions to individuals, businesses, organizations & chartered accountants in India. Clear serves 1.5+ Million happy customers, 20000+ CAs & tax experts & 10000+ businesses across India.',\n",
       " 'Efiling Income Tax Returns(ITR) is made easy with Clear platform. Just upload your form 16, claim your deductions and get your acknowledgment number online. You can efile income tax return on your income from salary, house property, capital gains, business & profession and income from other sources. Further you can also file TDS returns, generate Form-16, use our Tax Calculator software, claim HRA, check refund status and generate rent receipts for Income Tax Filing.',\n",
       " 'CAs, experts and businesses can get GST ready with Clear GST software & certification course. Our GST Software helps CAs, tax experts & business to manage returns & invoices in an easy manner. Our Goods & Services Tax course includes tutorial videos, guides and expert assistance to help you in mastering Goods and Services Tax. Clear can also help you in getting your business registered for Goods & Services Tax Law.',\n",
       " 'Save taxes with Clear by investing in tax saving mutual funds (ELSS) online. Our experts suggest the best funds and you can get high returns by investing directly or through SIP. Download Black by ClearTax App to file returns from your mobile phone.',\n",
       " 'Cleartax is a product by Defmacro Software Pvt. Ltd.',\n",
       " 'Company PolicyTerms of use',\n",
       " 'ISO 27001',\n",
       " 'Data Center',\n",
       " 'SSL Certified Site',\n",
       " '128-bit encryption']"
      ]
     },
     "execution_count": 74,
     "metadata": {},
     "output_type": "execute_result"
    }
   ],
   "source": [
    "p_text = [tag.text for tag in p_tags]\n",
    "p_text"
   ]
  },
  {
   "cell_type": "code",
   "execution_count": 76,
   "metadata": {},
   "outputs": [
    {
     "name": "stdout",
     "output_type": "stream",
     "text": [
      "G1-G9 filing ASP/GSP solution\n",
      "Elevate processes with AI automation and vendor delight\n",
      "Streamline ven\n"
     ]
    }
   ],
   "source": [
    "p_str = \"\\n\".join(p_text)\n",
    "print(p_str[0:100])"
   ]
  },
  {
   "cell_type": "code",
   "execution_count": 78,
   "metadata": {},
   "outputs": [],
   "source": [
    "with open(\"GST.txt\", \"w\", encoding=\"utf-8\") as file1:\n",
    "    file1.write(p_str)"
   ]
  },
  {
   "cell_type": "code",
   "execution_count": null,
   "metadata": {},
   "outputs": [],
   "source": []
  }
 ],
 "metadata": {
  "kernelspec": {
   "display_name": "venv",
   "language": "python",
   "name": "python3"
  },
  "language_info": {
   "codemirror_mode": {
    "name": "ipython",
    "version": 3
   },
   "file_extension": ".py",
   "mimetype": "text/x-python",
   "name": "python",
   "nbconvert_exporter": "python",
   "pygments_lexer": "ipython3",
   "version": "3.12.6"
  }
 },
 "nbformat": 4,
 "nbformat_minor": 2
}
