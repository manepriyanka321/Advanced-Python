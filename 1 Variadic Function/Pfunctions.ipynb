{
 "cells": [
  {
   "cell_type": "markdown",
   "metadata": {},
   "source": [
    "### Variadic function (Practice)"
   ]
  },
  {
   "cell_type": "code",
   "execution_count": 10,
   "metadata": {},
   "outputs": [],
   "source": [
    "def function1(*args):\n",
    "    print(args)\n",
    "    print(type(args))\n",
    "    for i in args:\n",
    "        print (i)\n"
   ]
  },
  {
   "cell_type": "code",
   "execution_count": 11,
   "metadata": {},
   "outputs": [],
   "source": [
    "a = [12,11,5,\"pri.\",12.5]"
   ]
  },
  {
   "cell_type": "code",
   "execution_count": 12,
   "metadata": {},
   "outputs": [
    {
     "name": "stdout",
     "output_type": "stream",
     "text": [
      "([12, 11, 5, 'pri.', 12.5],)\n",
      "<class 'tuple'>\n",
      "[12, 11, 5, 'pri.', 12.5]\n"
     ]
    }
   ],
   "source": [
    "function1(a)"
   ]
  },
  {
   "cell_type": "code",
   "execution_count": 19,
   "metadata": {},
   "outputs": [],
   "source": [
    "def function2(*args):\n",
    "    print(args)\n",
    "    print(type(args))\n",
    "    for i in args:\n",
    "        print (i)"
   ]
  },
  {
   "cell_type": "code",
   "execution_count": 21,
   "metadata": {},
   "outputs": [
    {
     "name": "stdout",
     "output_type": "stream",
     "text": [
      "(12, 11, 5, 'pri.', 12.5)\n",
      "<class 'tuple'>\n",
      "12\n",
      "11\n",
      "5\n",
      "pri.\n",
      "12.5\n"
     ]
    }
   ],
   "source": [
    "function2(*a)"
   ]
  },
  {
   "cell_type": "code",
   "execution_count": null,
   "metadata": {},
   "outputs": [],
   "source": [
    "def billing(*args):\n",
    "    total = 0\n",
    "    \n",
    "    for name, price, qty in args:\n",
    "        subtotal = price*qty\n",
    "        total = total + subtotal\n",
    "        print(f\"Product = {name}, Price = {price} INR, Quantity = {qty}\")\n",
    "        print(f\"Subtotal = {subtotal} INR\")\n",
    "        print(\"\\n============================================================\\n\")\n",
    "    \n",
    "    print(f\"Total_bill = {total:.2f} INR\")\n",
    "    return total \n"
   ]
  },
  {
   "cell_type": "code",
   "execution_count": null,
   "metadata": {},
   "outputs": [],
   "source": [
    "c1 = [\n",
    "    (\"Laptop\", 78000, 1),\n",
    "    (\"Mouse\", 1500, 2),\n",
    "    (\"Keyboard\", 2000, 1),\n",
    "]"
   ]
  },
  {
   "cell_type": "code",
   "execution_count": 39,
   "metadata": {},
   "outputs": [
    {
     "data": {
      "text/plain": [
       "[('Laptop', 78000, 1), ('Mouse', 1500, 2), ('Keyboard', 2000, 1)]"
      ]
     },
     "execution_count": 39,
     "metadata": {},
     "output_type": "execute_result"
    }
   ],
   "source": [
    "c1"
   ]
  },
  {
   "cell_type": "code",
   "execution_count": 41,
   "metadata": {},
   "outputs": [
    {
     "name": "stdout",
     "output_type": "stream",
     "text": [
      "Product = Laptop, Price = 78000 INR, Quantity = 1\n",
      "Subtotal = 78000 INR\n",
      "\n",
      "============================================================\n",
      "\n",
      "Product = Mouse, Price = 1500 INR, Quantity = 2\n",
      "Subtotal = 3000 INR\n",
      "\n",
      "============================================================\n",
      "\n",
      "Product = Keyboard, Price = 2000 INR, Quantity = 1\n",
      "Subtotal = 2000 INR\n",
      "\n",
      "============================================================\n",
      "\n",
      "Total_bill = 83000.00 INR\n"
     ]
    }
   ],
   "source": [
    "t1 = billing(*c1)"
   ]
  },
  {
   "cell_type": "code",
   "execution_count": null,
   "metadata": {},
   "outputs": [],
   "source": []
  },
  {
   "cell_type": "code",
   "execution_count": null,
   "metadata": {},
   "outputs": [],
   "source": [
    "def Simple_intrest(*args):\n",
    "    for p, n ,r in args:\n",
    "        i = p*n*r/100\n",
    "        a = p + i\n",
    "        print(f\"Principle = {p} INR, Time = {n} Y, \")"
   ]
  }
 ],
 "metadata": {
  "kernelspec": {
   "display_name": "venv",
   "language": "python",
   "name": "python3"
  },
  "language_info": {
   "codemirror_mode": {
    "name": "ipython",
    "version": 3
   },
   "file_extension": ".py",
   "mimetype": "text/x-python",
   "name": "python",
   "nbconvert_exporter": "python",
   "pygments_lexer": "ipython3",
   "version": "3.12.6"
  }
 },
 "nbformat": 4,
 "nbformat_minor": 2
}
